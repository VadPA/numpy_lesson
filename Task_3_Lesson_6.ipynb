{
 "cells": [
  {
   "cell_type": "code",
   "execution_count": 1,
   "id": "1fddb869",
   "metadata": {},
   "outputs": [],
   "source": [
    "import numpy as np\n",
    "import pandas as pd"
   ]
  },
  {
   "cell_type": "code",
   "execution_count": 2,
   "id": "409a3b49",
   "metadata": {},
   "outputs": [],
   "source": [
    "from sklearn.datasets import load_boston"
   ]
  },
  {
   "cell_type": "code",
   "execution_count": 3,
   "id": "3061d7fb",
   "metadata": {},
   "outputs": [],
   "source": [
    "boston = load_boston()"
   ]
  },
  {
   "cell_type": "code",
   "execution_count": 4,
   "id": "bd42bd0a",
   "metadata": {},
   "outputs": [],
   "source": [
    "data = boston.data\n",
    "target = boston.target\n",
    "feature_names = boston.feature_names\n",
    "X = pd.DataFrame(data, columns=feature_names)\n",
    "y = pd.DataFrame(target, columns=['price'])"
   ]
  },
  {
   "cell_type": "code",
   "execution_count": 5,
   "id": "34ad5094",
   "metadata": {},
   "outputs": [],
   "source": [
    "from sklearn.model_selection import train_test_split"
   ]
  },
  {
   "cell_type": "code",
   "execution_count": 6,
   "id": "2179b752",
   "metadata": {},
   "outputs": [],
   "source": [
    "X_train, X_test, y_train, y_test = train_test_split(X, y, test_size=0.30, random_state=42)"
   ]
  },
  {
   "cell_type": "code",
   "execution_count": 7,
   "id": "55e10bdb",
   "metadata": {},
   "outputs": [],
   "source": [
    "from sklearn.ensemble import RandomForestRegressor"
   ]
  },
  {
   "cell_type": "code",
   "execution_count": 8,
   "id": "6c9bd67f",
   "metadata": {},
   "outputs": [],
   "source": [
    "model = RandomForestRegressor()"
   ]
  },
  {
   "cell_type": "code",
   "execution_count": 9,
   "id": "fb891dd9",
   "metadata": {},
   "outputs": [
    {
     "data": {
      "text/plain": [
       "RandomForestRegressor()"
      ]
     },
     "execution_count": 9,
     "metadata": {},
     "output_type": "execute_result"
    }
   ],
   "source": [
    "model.fit(X_train, y_train.values[:, 0])"
   ]
  },
  {
   "cell_type": "code",
   "execution_count": 10,
   "id": "5675d0fa",
   "metadata": {},
   "outputs": [],
   "source": [
    "y_pred = model.predict(X_test)"
   ]
  },
  {
   "cell_type": "code",
   "execution_count": 11,
   "id": "554d69ca",
   "metadata": {},
   "outputs": [],
   "source": [
    "from sklearn.metrics import r2_score"
   ]
  },
  {
   "cell_type": "code",
   "execution_count": 12,
   "id": "11b1660e",
   "metadata": {},
   "outputs": [
    {
     "data": {
      "text/plain": [
       "0.8592307709161907"
      ]
     },
     "execution_count": 12,
     "metadata": {},
     "output_type": "execute_result"
    }
   ],
   "source": [
    "r2_score(y_test, y_pred)"
   ]
  },
  {
   "cell_type": "markdown",
   "id": "65ae34a0",
   "metadata": {},
   "source": [
    "Чем ближе этот показатель к 1 тем лучше работает модель. В линейной регрессии этот показатель = 0.7112260057484929, следовательно модель построенная на RandomForestRegressor работает лучше."
   ]
  },
  {
   "cell_type": "markdown",
   "id": "a5a7ebb6",
   "metadata": {},
   "source": [
    "### Задание 3*"
   ]
  },
  {
   "cell_type": "code",
   "execution_count": 13,
   "id": "81cc14d2",
   "metadata": {},
   "outputs": [
    {
     "data": {
      "text/plain": [
       "array([0.0422353 , 0.00133657, 0.00717483, 0.00118415, 0.01373398,\n",
       "       0.41576435, 0.01619518, 0.06048424, 0.00597374, 0.01144624,\n",
       "       0.01544036, 0.01187405, 0.397157  ])"
      ]
     },
     "execution_count": 13,
     "metadata": {},
     "output_type": "execute_result"
    }
   ],
   "source": [
    "model.feature_importances_"
   ]
  },
  {
   "cell_type": "code",
   "execution_count": 14,
   "id": "de6736b5",
   "metadata": {},
   "outputs": [
    {
     "data": {
      "text/plain": [
       "1.0"
      ]
     },
     "execution_count": 14,
     "metadata": {},
     "output_type": "execute_result"
    }
   ],
   "source": [
    "model.feature_importances_.sum()"
   ]
  },
  {
   "cell_type": "code",
   "execution_count": 15,
   "id": "7fbf3c47",
   "metadata": {},
   "outputs": [
    {
     "data": {
      "text/plain": [
       "0.4157643464325991"
      ]
     },
     "execution_count": 15,
     "metadata": {},
     "output_type": "execute_result"
    }
   ],
   "source": [
    "model.feature_importances_.max()"
   ]
  },
  {
   "cell_type": "markdown",
   "id": "77776cbf",
   "metadata": {},
   "source": [
    "#### Установим, какие два признака показывают наибольшую важность"
   ]
  },
  {
   "cell_type": "code",
   "execution_count": 16,
   "id": "7e209f60",
   "metadata": {},
   "outputs": [
    {
     "name": "stdout",
     "output_type": "stream",
     "text": [
      "['RM', 'B']\n"
     ]
    }
   ],
   "source": [
    "max = 0\n",
    "feat = ''\n",
    "feats = []\n",
    "arr = model.feature_importances_.copy()\n",
    "index = 0\n",
    "for j in range(0,2):\n",
    "    for i in range(0,len(arr)):\n",
    "        if arr[i] > max:\n",
    "            max = arr[i]\n",
    "            feat = X_train.columns[i]\n",
    "            index = i\n",
    "    feats.append(feat)\n",
    "    arr = np.delete(arr, index)\n",
    "    max = 0\n",
    "    feat = ''\n",
    "    index = 0\n",
    "print(feats)"
   ]
  },
  {
   "cell_type": "code",
   "execution_count": 17,
   "id": "cc906ac9",
   "metadata": {},
   "outputs": [
    {
     "data": {
      "text/plain": [
       "Index(['CRIM', 'ZN', 'INDUS', 'CHAS', 'NOX', 'RM', 'AGE', 'DIS', 'RAD', 'TAX',\n",
       "       'PTRATIO', 'B', 'LSTAT'],\n",
       "      dtype='object')"
      ]
     },
     "execution_count": 17,
     "metadata": {},
     "output_type": "execute_result"
    }
   ],
   "source": [
    "X_train.columns"
   ]
  },
  {
   "cell_type": "code",
   "execution_count": null,
   "id": "1cd4fb3d",
   "metadata": {},
   "outputs": [],
   "source": []
  }
 ],
 "metadata": {
  "kernelspec": {
   "display_name": "Python 3",
   "language": "python",
   "name": "python3"
  },
  "language_info": {
   "codemirror_mode": {
    "name": "ipython",
    "version": 3
   },
   "file_extension": ".py",
   "mimetype": "text/x-python",
   "name": "python",
   "nbconvert_exporter": "python",
   "pygments_lexer": "ipython3",
   "version": "3.8.8"
  }
 },
 "nbformat": 4,
 "nbformat_minor": 5
}
